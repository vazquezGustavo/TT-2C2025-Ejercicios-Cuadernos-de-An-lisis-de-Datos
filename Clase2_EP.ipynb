{
  "nbformat": 4,
  "nbformat_minor": 0,
  "metadata": {
    "colab": {
      "provenance": [],
      "authorship_tag": "ABX9TyN4apq1qXfBc0ZkfCkd5CH0",
      "include_colab_link": true
    },
    "kernelspec": {
      "name": "python3",
      "display_name": "Python 3"
    },
    "language_info": {
      "name": "python"
    }
  },
  "cells": [
    {
      "cell_type": "markdown",
      "metadata": {
        "id": "view-in-github",
        "colab_type": "text"
      },
      "source": [
        "<a href=\"https://colab.research.google.com/github/vazquezGustavo/TT-2C2025-Ejercicios-Cuadernos-de-An-lisis-de-Datos/blob/main/Clase2_EP.ipynb\" target=\"_parent\"><img src=\"https://colab.research.google.com/assets/colab-badge.svg\" alt=\"Open In Colab\"/></a>"
      ]
    },
    {
      "cell_type": "markdown",
      "source": [
        "## **1 Estructuras de Datos en Python**\n",
        ">\n",
        ">A - Crear una lista llamada numeros que contenga los números del 1 al 10.\n",
        ">\n",
        ">B - Crear una tupla llamada meses que contenga los nombres de los 12 meses del año.\n",
        ">\n",
        ">C - Crear un diccionario llamado notas con el nombre de tres estudiantes >como claves y sus respectivas notas como valores.\n",
        ">\n",
        ">D - Crear un conjunto llamado numeros_unicos con algunos números, asegurándose de que no haya duplicados."
      ],
      "metadata": {
        "id": "pP_pdp8tQtoB"
      }
    },
    {
      "cell_type": "markdown",
      "source": [
        "- Lista con números del 1 al 10"
      ],
      "metadata": {
        "id": "_IF--4NAvo8f"
      }
    },
    {
      "cell_type": "code",
      "execution_count": 2,
      "metadata": {
        "colab": {
          "base_uri": "https://localhost:8080/"
        },
        "id": "vOEY6AjnQogY",
        "outputId": "7fc9005e-41d7-47b4-a896-3df322d0d070"
      },
      "outputs": [
        {
          "output_type": "stream",
          "name": "stdout",
          "text": [
            "Lista de números: [1, 2, 3, 4, 5, 6, 7, 8, 9, 10]\n",
            "Tipo: <class 'list'>\n",
            "\n"
          ]
        }
      ],
      "source": [
        "lista_numeros = [1, 2, 3, 4, 5, 6, 7, 8, 9, 10]\n",
        "print(\"Lista de números:\", lista_numeros)\n",
        "print(\"Tipo:\", type(lista_numeros))\n",
        "print()\n",
        "# Operaciones con la lista\n",
        "print(\"Primer número de la lista:\", lista_numeros[0])\n",
        "print(\"Último número de la lista:\", lista_numeros[-1])\n",
        "print(\"Números del 3 al 7:\", lista_numeros[2:7])"
      ]
    },
    {
      "cell_type": "markdown",
      "source": [
        "También puedes crearla usando range()"
      ],
      "metadata": {
        "id": "g3zGypHEscvr"
      }
    },
    {
      "cell_type": "code",
      "source": [
        "lista_numeros_r = list(range(1, 11))\n",
        "print(\"Lista de números:\", lista_numeros_r)\n",
        "print(\"Tipo:\", type(lista_numeros_r))\n",
        "print()"
      ],
      "metadata": {
        "colab": {
          "base_uri": "https://localhost:8080/"
        },
        "id": "B6aC9cclsgmj",
        "outputId": "fccce5b4-9ab7-4373-f16e-65c6097e4c74"
      },
      "execution_count": 3,
      "outputs": [
        {
          "output_type": "stream",
          "name": "stdout",
          "text": [
            "Lista de números: [1, 2, 3, 4, 5, 6, 7, 8, 9, 10]\n",
            "Tipo: <class 'list'>\n",
            "\n"
          ]
        }
      ]
    },
    {
      "cell_type": "markdown",
      "source": [
        "- Tupla con los nombres de los 12 meses"
      ],
      "metadata": {
        "id": "YwOKsHHJQ6tz"
      }
    },
    {
      "cell_type": "code",
      "source": [
        "meses = (\n",
        "    \"Enero\", \"Febrero\", \"Marzo\", \"Abril\", \"Mayo\", \"Junio\",\n",
        "    \"Julio\", \"Agosto\", \"Septiembre\", \"Octubre\", \"Noviembre\", \"Diciembre\"\n",
        ")\n",
        "\n",
        "print(\"Tupla de meses:\", meses)\n",
        "print(\"Tipo:\", type(meses))\n",
        "print(\"Número de meses:\", len(meses))\n",
        "print()\n",
        "print(\"Primer mes:\", meses[0])\n",
        "print(\"Meses de verano (Jun-Ago):\", meses[5:8])"
      ],
      "metadata": {
        "colab": {
          "base_uri": "https://localhost:8080/"
        },
        "id": "adNtCiRhQ9a5",
        "outputId": "c3a276e2-1c11-4616-8dc3-917700acaeaf"
      },
      "execution_count": 7,
      "outputs": [
        {
          "output_type": "stream",
          "name": "stdout",
          "text": [
            "Tupla de meses: ('Enero', 'Febrero', 'Marzo', 'Abril', 'Mayo', 'Junio', 'Julio', 'Agosto', 'Septiembre', 'Octubre', 'Noviembre', 'Diciembre')\n",
            "Tipo: <class 'tuple'>\n",
            "Número de meses: 12\n",
            "\n",
            "Primer mes: Enero\n",
            "Meses de verano (Jun-Ago): ('Junio', 'Julio', 'Agosto')\n"
          ]
        }
      ]
    },
    {
      "cell_type": "markdown",
      "source": [
        "- Diccionario con nombres de estudiantes y sus notas"
      ],
      "metadata": {
        "id": "zH8a_sLtRGuU"
      }
    },
    {
      "cell_type": "code",
      "source": [
        "notas = {\n",
        "    \"Ana\": 8.5,\n",
        "    \"Carlos\": 9.2,\n",
        "    \"María\": 7.8\n",
        "}\n",
        "\n",
        "print(\"Diccionario de notas:\", notas)\n",
        "print(\"Tipo:\", type(notas))\n",
        "print(\"Nota de Ana:\", notas[\"Ana\"])\n",
        "print()\n",
        "print(\"Estudiantes:\", list(notas.keys()))\n",
        "print(\"Todas las notas:\", list(notas.values()))"
      ],
      "metadata": {
        "colab": {
          "base_uri": "https://localhost:8080/"
        },
        "id": "nussV9CiRHDp",
        "outputId": "222fe547-2b7c-459f-9fd1-1d2ed5e002be"
      },
      "execution_count": 5,
      "outputs": [
        {
          "output_type": "stream",
          "name": "stdout",
          "text": [
            "Diccionario de notas: {'Ana': 8.5, 'Carlos': 9.2, 'María': 7.8}\n",
            "Tipo: <class 'dict'>\n",
            "Nota de Ana: 8.5\n",
            "\n"
          ]
        }
      ]
    },
    {
      "cell_type": "markdown",
      "source": [
        " - Conjunto (con números únicos,sin duplicados)"
      ],
      "metadata": {
        "id": "8dR5tXvTRQQa"
      }
    },
    {
      "cell_type": "code",
      "source": [
        "numeros_unicos = {1, 2, 3, 4, 5, 3, 2, 8, 9, 1}  # Los duplicados se eliminan automáticamente\n",
        "\n",
        "print(\"Conjunto de números únicos:\", numeros_unicos)\n",
        "print(\"Tipo:\", type(numeros_unicos))\n",
        "print(\"Cantidad de elementos únicos:\", len(numeros_unicos))\n",
        "print()\n",
        "print(\"¿El 5 está en el conjunto?:\", 5 in numeros_unicos)\n",
        "print(\"¿El 10 está en el conjunto?:\", 10 in numeros_unicos)"
      ],
      "metadata": {
        "id": "Qy91n4s0RQh9"
      },
      "execution_count": null,
      "outputs": []
    }
  ]
}