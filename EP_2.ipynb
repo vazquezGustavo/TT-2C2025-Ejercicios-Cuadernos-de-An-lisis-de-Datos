{
  "nbformat": 4,
  "nbformat_minor": 0,
  "metadata": {
    "colab": {
      "provenance": [],
      "authorship_tag": "ABX9TyNrAhjOvU2zdq8nQHE9Abni",
      "include_colab_link": true
    },
    "kernelspec": {
      "name": "python3",
      "display_name": "Python 3"
    },
    "language_info": {
      "name": "python"
    }
  },
  "cells": [
    {
      "cell_type": "markdown",
      "metadata": {
        "id": "view-in-github",
        "colab_type": "text"
      },
      "source": [
        "<a href=\"https://colab.research.google.com/github/vazquezGustavo/TT-2C2025-Ejercicios-Cuadernos-de-An-lisis-de-Datos/blob/main/EP_2.ipynb\" target=\"_parent\"><img src=\"https://colab.research.google.com/assets/colab-badge.svg\" alt=\"Open In Colab\"/></a>"
      ]
    },
    {
      "cell_type": "markdown",
      "source": [
        "**Actividad 2**: Pares, impares y primeros pasos en Python"
      ],
      "metadata": {
        "id": "xsR4KJOiET6f"
      }
    },
    {
      "cell_type": "markdown",
      "source": [
        "Pedir al usuario que ingrese un número entero"
      ],
      "metadata": {
        "id": "D1p2_Fs7Ey6B"
      }
    },
    {
      "cell_type": "code",
      "execution_count": 3,
      "metadata": {
        "colab": {
          "base_uri": "https://localhost:8080/"
        },
        "id": "tDk2SIYpD6oJ",
        "outputId": "d93427b1-674e-4196-c99b-80f5c1f8202a"
      },
      "outputs": [
        {
          "name": "stdout",
          "output_type": "stream",
          "text": [
            "Ingresa un número entero: 88\n"
          ]
        }
      ],
      "source": [
        "numero = input(\"Ingresa un número entero: \")"
      ]
    },
    {
      "cell_type": "markdown",
      "source": [
        "Convertir el valor a entero"
      ],
      "metadata": {
        "id": "5Dl5D72nE1iS"
      }
    },
    {
      "cell_type": "code",
      "source": [
        "numero = int(numero)"
      ],
      "metadata": {
        "id": "un7jdnWhEuS0"
      },
      "execution_count": 4,
      "outputs": []
    },
    {
      "cell_type": "markdown",
      "source": [
        "Verificar si es divisible por 2\n"
      ],
      "metadata": {
        "id": "0llcIljtE701"
      }
    },
    {
      "cell_type": "code",
      "source": [
        "if numero % 2 == 0:\n",
        " print(f\"El número {numero} es par\")\n",
        "else:\n",
        " print(f\"El número {numero} es impar\")"
      ],
      "metadata": {
        "colab": {
          "base_uri": "https://localhost:8080/"
        },
        "id": "h8AXWQDTFAHh",
        "outputId": "439732ee-4d16-44eb-81ef-9cc3024a96a7"
      },
      "execution_count": 5,
      "outputs": [
        {
          "output_type": "stream",
          "name": "stdout",
          "text": [
            "El número 88 es par\n"
          ]
        }
      ]
    },
    {
      "cell_type": "code",
      "source": [],
      "metadata": {
        "id": "QbYZKc9oFCOO"
      },
      "execution_count": null,
      "outputs": []
    }
  ]
}